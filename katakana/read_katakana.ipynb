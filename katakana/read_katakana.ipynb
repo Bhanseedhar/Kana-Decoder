{
 "cells": [
  {
   "cell_type": "code",
   "execution_count": 6,
   "metadata": {},
   "outputs": [],
   "source": [
    "import struct\n",
    "from PIL import Image\n",
    "import numpy as np\n",
    "import os"
   ]
  },
  {
   "cell_type": "code",
   "execution_count": 7,
   "metadata": {},
   "outputs": [],
   "source": [
    "os.chdir(r'C:\\Users\\dic_l\\Desktop\\japanese handwritten ocr')"
   ]
  },
  {
   "cell_type": "code",
   "execution_count": 8,
   "metadata": {},
   "outputs": [],
   "source": [
    "def read_record_ETL1G(f):\n",
    "    s = f.read(2052)\n",
    "    r = struct.unpack('>H2sH6BI4H4B4x2016s4x', s)\n",
    "    iF = Image.frombytes('F', (64, 63), r[18], 'bit', 4)\n",
    "    iL = iF.convert('P')\n",
    "    return r + (iL,)\n",
    "\n",
    "def read_kana():\n",
    "    katakana = np.zeros([51, 1411, 63, 64], dtype=np.uint8) # 51 characters, 1411 writers, img size = 63*64\n",
    "    for i in range(7,14):\n",
    "        filename = 'ETL1/ETL1C_{:02d}'.format(i)\n",
    "        with open(filename, 'rb') as f:\n",
    "            if i!=13: # file 13 only has 3 characters, others have 8 characters\n",
    "                limit = 8\n",
    "            else:\n",
    "                limit=3\n",
    "            for dataset in range(limit):\n",
    "                for j in range(1411):\n",
    "                    try :\n",
    "                        r = read_record_ETL1G(f)\n",
    "                        katakana[(i - 7) * 8 + dataset, j] = np.array(r[-1])\n",
    "                    except struct.error: # two imgs are blank according to the ETL website, so this prevents any errors\n",
    "                        pass\n",
    "    np.savez_compressed(\"kana.npz\", katakana)\n",
    "\n",
    "read_kana()\n"
   ]
  },
  {
   "cell_type": "code",
   "execution_count": null,
   "metadata": {},
   "outputs": [],
   "source": []
  }
 ],
 "metadata": {
  "kernelspec": {
   "display_name": "venv",
   "language": "python",
   "name": "python3"
  },
  "language_info": {
   "codemirror_mode": {
    "name": "ipython",
    "version": 3
   },
   "file_extension": ".py",
   "mimetype": "text/x-python",
   "name": "python",
   "nbconvert_exporter": "python",
   "pygments_lexer": "ipython3",
   "version": "3.12.9"
  }
 },
 "nbformat": 4,
 "nbformat_minor": 2
}
