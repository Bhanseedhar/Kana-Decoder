{
 "cells": [
  {
   "cell_type": "code",
   "execution_count": 3,
   "metadata": {},
   "outputs": [],
   "source": [
    "import tensorflow as tf\n",
    "from tensorflow import keras\n",
    "import numpy as np\n",
    "from tensorflow.keras.preprocessing.image import ImageDataGenerator\n",
    "from keras import backend as K\n",
    "import os"
   ]
  },
  {
   "cell_type": "code",
   "execution_count": 4,
   "metadata": {},
   "outputs": [],
   "source": [
    "os.chdir(r'C:\\Users\\dic_l\\Desktop\\japanese handwritten ocr')"
   ]
  },
  {
   "cell_type": "code",
   "execution_count": 6,
   "metadata": {},
   "outputs": [],
   "source": [
    "train_images = np.load(\"katakana_train_images.npz\")['arr_0']\n",
    "train_labels = np.load(\"katakana_train_labels.npz\")['arr_0']\n",
    "test_images = np.load(\"katakana_test_images.npz\")['arr_0']\n",
    "test_labels = np.load(\"katakana_test_labels.npz\")['arr_0']"
   ]
  },
  {
   "cell_type": "code",
   "execution_count": 7,
   "metadata": {},
   "outputs": [],
   "source": [
    "if K.image_data_format() == \"channels_first\": # reshape the image to be able to go through 2D CNN\n",
    "  train_images = train_images.reshape(train_images.shape[0], 1,48,48)\n",
    "  test_images2 = test_images.reshape(test_images.shape[0], 1,48,48)\n",
    "  shape = (1,48,48)\n",
    "else:\n",
    "  train_images = train_images.reshape(train_images.shape[0], 48, 48, 1)\n",
    "  test_images2 = test_images.reshape(test_images.shape[0], 48, 48, 1)\n",
    "  shape = (48,48,1)"
   ]
  },
  {
   "cell_type": "code",
   "execution_count": 8,
   "metadata": {},
   "outputs": [
    {
     "name": "stderr",
     "output_type": "stream",
     "text": [
      "c:\\Users\\dic_l\\Desktop\\japanese handwritten ocr\\venv\\Lib\\site-packages\\keras\\src\\layers\\convolutional\\base_conv.py:107: UserWarning: Do not pass an `input_shape`/`input_dim` argument to a layer. When using Sequential models, prefer using an `Input(shape)` object as the first layer in the model instead.\n",
      "  super().__init__(activity_regularizer=activity_regularizer, **kwargs)\n"
     ]
    }
   ],
   "source": [
    "# the model\n",
    "datagen = ImageDataGenerator(rotation_range=15,zoom_range=0.2)\n",
    "datagen.fit(train_images)\n",
    "model = keras.Sequential([\n",
    "  keras.layers.Conv2D(32, (3,3), activation='relu', input_shape=shape),\n",
    "  keras.layers.MaxPooling2D(2,2),\n",
    "  keras.layers.Conv2D(64, (3,3), activation='relu'),\n",
    "  keras.layers.MaxPooling2D(2,2),\n",
    "  keras.layers.Conv2D(64, (3,3), activation='relu'),\n",
    "  keras.layers.MaxPooling2D(2,2),\n",
    "  keras.layers.Flatten(),\n",
    "  keras.layers.Dropout(0.5),\n",
    "  keras.layers.Dense(512, activation='relu'),\n",
    "  keras.layers.Dense(48, activation=\"softmax\")\n",
    "])"
   ]
  },
  {
   "cell_type": "code",
   "execution_count": 10,
   "metadata": {},
   "outputs": [
    {
     "name": "stdout",
     "output_type": "stream",
     "text": [
      "Epoch 1/30\n"
     ]
    },
    {
     "name": "stderr",
     "output_type": "stream",
     "text": [
      "c:\\Users\\dic_l\\Desktop\\japanese handwritten ocr\\venv\\Lib\\site-packages\\keras\\src\\trainers\\data_adapters\\py_dataset_adapter.py:121: UserWarning: Your `PyDataset` class should call `super().__init__(**kwargs)` in its constructor. `**kwargs` can include `workers`, `use_multiprocessing`, `max_queue_size`. Do not pass these arguments to `fit()`, as they will be ignored.\n",
      "  self._warn_if_super_not_called()\n"
     ]
    },
    {
     "name": "stdout",
     "output_type": "stream",
     "text": [
      "\u001b[1m1799/1799\u001b[0m \u001b[32m━━━━━━━━━━━━━━━━━━━━\u001b[0m\u001b[37m\u001b[0m \u001b[1m16s\u001b[0m 8ms/step - accuracy: 0.5513 - loss: 1.6588 - val_accuracy: 0.9512 - val_loss: 0.1865 - learning_rate: 0.0010\n",
      "Epoch 2/30\n",
      "\u001b[1m1799/1799\u001b[0m \u001b[32m━━━━━━━━━━━━━━━━━━━━\u001b[0m\u001b[37m\u001b[0m \u001b[1m15s\u001b[0m 8ms/step - accuracy: 0.8868 - loss: 0.3788 - val_accuracy: 0.9656 - val_loss: 0.1416 - learning_rate: 0.0010\n",
      "Epoch 3/30\n",
      "\u001b[1m1799/1799\u001b[0m \u001b[32m━━━━━━━━━━━━━━━━━━━━\u001b[0m\u001b[37m\u001b[0m \u001b[1m15s\u001b[0m 8ms/step - accuracy: 0.9196 - loss: 0.2809 - val_accuracy: 0.9728 - val_loss: 0.1120 - learning_rate: 0.0010\n",
      "Epoch 4/30\n",
      "\u001b[1m1799/1799\u001b[0m \u001b[32m━━━━━━━━━━━━━━━━━━━━\u001b[0m\u001b[37m\u001b[0m \u001b[1m16s\u001b[0m 9ms/step - accuracy: 0.9344 - loss: 0.2329 - val_accuracy: 0.9764 - val_loss: 0.1053 - learning_rate: 0.0010\n",
      "Epoch 5/30\n",
      "\u001b[1m1799/1799\u001b[0m \u001b[32m━━━━━━━━━━━━━━━━━━━━\u001b[0m\u001b[37m\u001b[0m \u001b[1m15s\u001b[0m 8ms/step - accuracy: 0.9417 - loss: 0.2029 - val_accuracy: 0.9783 - val_loss: 0.0985 - learning_rate: 0.0010\n",
      "Epoch 6/30\n",
      "\u001b[1m1799/1799\u001b[0m \u001b[32m━━━━━━━━━━━━━━━━━━━━\u001b[0m\u001b[37m\u001b[0m \u001b[1m15s\u001b[0m 8ms/step - accuracy: 0.9476 - loss: 0.1900 - val_accuracy: 0.9788 - val_loss: 0.0964 - learning_rate: 0.0010\n",
      "Epoch 7/30\n",
      "\u001b[1m1799/1799\u001b[0m \u001b[32m━━━━━━━━━━━━━━━━━━━━\u001b[0m\u001b[37m\u001b[0m \u001b[1m15s\u001b[0m 8ms/step - accuracy: 0.9541 - loss: 0.1654 - val_accuracy: 0.9801 - val_loss: 0.0975 - learning_rate: 0.0010\n",
      "Epoch 8/30\n",
      "\u001b[1m1799/1799\u001b[0m \u001b[32m━━━━━━━━━━━━━━━━━━━━\u001b[0m\u001b[37m\u001b[0m \u001b[1m15s\u001b[0m 8ms/step - accuracy: 0.9560 - loss: 0.1563 - val_accuracy: 0.9806 - val_loss: 0.0935 - learning_rate: 0.0010\n",
      "Epoch 9/30\n",
      "\u001b[1m1799/1799\u001b[0m \u001b[32m━━━━━━━━━━━━━━━━━━━━\u001b[0m\u001b[37m\u001b[0m \u001b[1m15s\u001b[0m 8ms/step - accuracy: 0.9565 - loss: 0.1520 - val_accuracy: 0.9819 - val_loss: 0.0865 - learning_rate: 0.0010\n",
      "Epoch 10/30\n",
      "\u001b[1m1799/1799\u001b[0m \u001b[32m━━━━━━━━━━━━━━━━━━━━\u001b[0m\u001b[37m\u001b[0m \u001b[1m15s\u001b[0m 8ms/step - accuracy: 0.9605 - loss: 0.1408 - val_accuracy: 0.9817 - val_loss: 0.0853 - learning_rate: 0.0010\n",
      "Epoch 11/30\n",
      "\u001b[1m1799/1799\u001b[0m \u001b[32m━━━━━━━━━━━━━━━━━━━━\u001b[0m\u001b[37m\u001b[0m \u001b[1m15s\u001b[0m 8ms/step - accuracy: 0.9615 - loss: 0.1369 - val_accuracy: 0.9829 - val_loss: 0.0812 - learning_rate: 0.0010\n",
      "Epoch 12/30\n",
      "\u001b[1m1799/1799\u001b[0m \u001b[32m━━━━━━━━━━━━━━━━━━━━\u001b[0m\u001b[37m\u001b[0m \u001b[1m27s\u001b[0m 15ms/step - accuracy: 0.9638 - loss: 0.1291 - val_accuracy: 0.9830 - val_loss: 0.0862 - learning_rate: 0.0010\n",
      "Epoch 13/30\n",
      "\u001b[1m1799/1799\u001b[0m \u001b[32m━━━━━━━━━━━━━━━━━━━━\u001b[0m\u001b[37m\u001b[0m \u001b[1m25s\u001b[0m 14ms/step - accuracy: 0.9645 - loss: 0.1278 - val_accuracy: 0.9841 - val_loss: 0.0816 - learning_rate: 0.0010\n",
      "Epoch 14/30\n",
      "\u001b[1m1799/1799\u001b[0m \u001b[32m━━━━━━━━━━━━━━━━━━━━\u001b[0m\u001b[37m\u001b[0m \u001b[1m0s\u001b[0m 7ms/step - accuracy: 0.9664 - loss: 0.1175\n",
      "Epoch 14: ReduceLROnPlateau reducing learning rate to 0.0005000000237487257.\n",
      "\u001b[1m1799/1799\u001b[0m \u001b[32m━━━━━━━━━━━━━━━━━━━━\u001b[0m\u001b[37m\u001b[0m \u001b[1m15s\u001b[0m 8ms/step - accuracy: 0.9664 - loss: 0.1175 - val_accuracy: 0.9825 - val_loss: 0.0866 - learning_rate: 0.0010\n",
      "Epoch 15/30\n",
      "\u001b[1m1799/1799\u001b[0m \u001b[32m━━━━━━━━━━━━━━━━━━━━\u001b[0m\u001b[37m\u001b[0m \u001b[1m15s\u001b[0m 8ms/step - accuracy: 0.9731 - loss: 0.0960 - val_accuracy: 0.9859 - val_loss: 0.0727 - learning_rate: 5.0000e-04\n",
      "Epoch 16/30\n",
      "\u001b[1m1799/1799\u001b[0m \u001b[32m━━━━━━━━━━━━━━━━━━━━\u001b[0m\u001b[37m\u001b[0m \u001b[1m15s\u001b[0m 8ms/step - accuracy: 0.9743 - loss: 0.0899 - val_accuracy: 0.9852 - val_loss: 0.0756 - learning_rate: 5.0000e-04\n",
      "Epoch 17/30\n",
      "\u001b[1m1799/1799\u001b[0m \u001b[32m━━━━━━━━━━━━━━━━━━━━\u001b[0m\u001b[37m\u001b[0m \u001b[1m15s\u001b[0m 8ms/step - accuracy: 0.9755 - loss: 0.0871 - val_accuracy: 0.9853 - val_loss: 0.0796 - learning_rate: 5.0000e-04\n",
      "Epoch 18/30\n",
      "\u001b[1m1793/1799\u001b[0m \u001b[32m━━━━━━━━━━━━━━━━━━━\u001b[0m\u001b[37m━\u001b[0m \u001b[1m0s\u001b[0m 7ms/step - accuracy: 0.9762 - loss: 0.0817\n",
      "Epoch 18: ReduceLROnPlateau reducing learning rate to 0.0002500000118743628.\n",
      "\u001b[1m1799/1799\u001b[0m \u001b[32m━━━━━━━━━━━━━━━━━━━━\u001b[0m\u001b[37m\u001b[0m \u001b[1m15s\u001b[0m 8ms/step - accuracy: 0.9762 - loss: 0.0817 - val_accuracy: 0.9851 - val_loss: 0.0784 - learning_rate: 5.0000e-04\n",
      "Epoch 19/30\n",
      "\u001b[1m1799/1799\u001b[0m \u001b[32m━━━━━━━━━━━━━━━━━━━━\u001b[0m\u001b[37m\u001b[0m \u001b[1m15s\u001b[0m 8ms/step - accuracy: 0.9785 - loss: 0.0756 - val_accuracy: 0.9863 - val_loss: 0.0732 - learning_rate: 2.5000e-04\n",
      "Epoch 20/30\n",
      "\u001b[1m1799/1799\u001b[0m \u001b[32m━━━━━━━━━━━━━━━━━━━━\u001b[0m\u001b[37m\u001b[0m \u001b[1m15s\u001b[0m 8ms/step - accuracy: 0.9801 - loss: 0.0702 - val_accuracy: 0.9867 - val_loss: 0.0735 - learning_rate: 2.5000e-04\n",
      "Epoch 21/30\n",
      "\u001b[1m1793/1799\u001b[0m \u001b[32m━━━━━━━━━━━━━━━━━━━\u001b[0m\u001b[37m━\u001b[0m \u001b[1m0s\u001b[0m 8ms/step - accuracy: 0.9826 - loss: 0.0637\n",
      "Epoch 21: ReduceLROnPlateau reducing learning rate to 0.0001250000059371814.\n",
      "\u001b[1m1799/1799\u001b[0m \u001b[32m━━━━━━━━━━━━━━━━━━━━\u001b[0m\u001b[37m\u001b[0m \u001b[1m15s\u001b[0m 8ms/step - accuracy: 0.9826 - loss: 0.0637 - val_accuracy: 0.9868 - val_loss: 0.0762 - learning_rate: 2.5000e-04\n",
      "Epoch 22/30\n",
      "\u001b[1m1799/1799\u001b[0m \u001b[32m━━━━━━━━━━━━━━━━━━━━\u001b[0m\u001b[37m\u001b[0m \u001b[1m15s\u001b[0m 8ms/step - accuracy: 0.9831 - loss: 0.0590 - val_accuracy: 0.9872 - val_loss: 0.0733 - learning_rate: 1.2500e-04\n",
      "Epoch 23/30\n",
      "\u001b[1m1799/1799\u001b[0m \u001b[32m━━━━━━━━━━━━━━━━━━━━\u001b[0m\u001b[37m\u001b[0m \u001b[1m15s\u001b[0m 8ms/step - accuracy: 0.9825 - loss: 0.0604 - val_accuracy: 0.9876 - val_loss: 0.0756 - learning_rate: 1.2500e-04\n",
      "Epoch 23: early stopping\n",
      "Restoring model weights from the end of the best epoch: 15.\n"
     ]
    },
    {
     "name": "stderr",
     "output_type": "stream",
     "text": [
      "WARNING:absl:You are saving your model as an HDF5 file via `model.save()` or `keras.saving.save_model(model)`. This file format is considered legacy. We recommend using instead the native Keras format, e.g. `model.save('my_model.keras')` or `keras.saving.save_model(model, 'my_model.keras')`. \n"
     ]
    }
   ],
   "source": [
    "model.compile(optimizer='adam', loss=\"sparse_categorical_crossentropy\", metrics=['accuracy'])\n",
    "\n",
    "model.fit(datagen.flow(train_images,train_labels,shuffle=True),epochs=30,validation_data=(test_images2,test_labels),callbacks = [keras.callbacks.EarlyStopping(patience=8,verbose=1,restore_best_weights=True),keras.callbacks.ReduceLROnPlateau(factor=0.5,patience=3,verbose=1)])\n",
    "\n",
    "model.save(\"katakana-model.h5\") "
   ]
  },
  {
   "cell_type": "code",
   "execution_count": null,
   "metadata": {},
   "outputs": [],
   "source": []
  }
 ],
 "metadata": {
  "kernelspec": {
   "display_name": "venv",
   "language": "python",
   "name": "python3"
  },
  "language_info": {
   "codemirror_mode": {
    "name": "ipython",
    "version": 3
   },
   "file_extension": ".py",
   "mimetype": "text/x-python",
   "name": "python",
   "nbconvert_exporter": "python",
   "pygments_lexer": "ipython3",
   "version": "3.12.9"
  }
 },
 "nbformat": 4,
 "nbformat_minor": 2
}
