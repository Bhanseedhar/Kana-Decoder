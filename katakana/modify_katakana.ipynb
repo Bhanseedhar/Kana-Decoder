{
 "cells": [
  {
   "cell_type": "code",
   "execution_count": 2,
   "metadata": {},
   "outputs": [],
   "source": [
    "import skimage.transform\n",
    "import numpy as np\n",
    "from sklearn.model_selection import train_test_split\n",
    "import os"
   ]
  },
  {
   "cell_type": "code",
   "execution_count": 3,
   "metadata": {},
   "outputs": [],
   "source": [
    "os.chdir(r'C:\\Users\\dic_l\\Desktop\\japanese handwritten ocr')"
   ]
  },
  {
   "cell_type": "code",
   "execution_count": 4,
   "metadata": {},
   "outputs": [],
   "source": [
    "kana = np.load(\"kana.npz\")['arr_0'].reshape([-1, 63, 64]).astype(np.float32)\n",
    "\n",
    "# make the numbers range from 0 to 1\n",
    "kana = kana/np.max(kana)\n",
    "\n",
    "# 51 is the number of different katakana (3 are duplicates so in the end there are 48 classes)\n",
    "# 1411 writers\n",
    "# transform the size of images to 48*48\n",
    "train_images = np.zeros([51 * 1411, 48, 48], dtype=np.float32)\n",
    "\n",
    "for i in range(51 * 1411): # change the image size to 48*48\n",
    "    train_images[i] = skimage.transform.resize(kana[i], (48, 48))\n",
    "\n",
    "# create labels\n",
    "arr = np.arange(51)\n",
    "train_labels = np.repeat(arr, 1411)"
   ]
  },
  {
   "cell_type": "code",
   "execution_count": 5,
   "metadata": {},
   "outputs": [],
   "source": [
    "# give the duplicates the same labels\n",
    "for i in range(len(train_labels)):\n",
    "\tif train_labels[i] == 36:\n",
    "\t\ttrain_labels[i] = 1\n",
    "\telif train_labels[i] == 38:\n",
    "\t\ttrain_labels[i] = 3\n",
    "\telif train_labels[i] == 47:\n",
    "\t\ttrain_labels[i] = 2\n",
    "\telif train_labels[i] == 37:\n",
    "\t\ttrain_labels[i] = train_labels[i] -1\n",
    "\telif train_labels[i] >= 39 and train_labels[i] <= 46:\n",
    "\t\ttrain_labels[i] = train_labels[i] - 2\n",
    "\telif train_labels[i] >= 48:\n",
    "\t\ttrain_labels[i] = train_labels[i] -3\n",
    "\n",
    "delete = [] # the 33863th and 67727th images are blank, so we delete them\n",
    "for i in range(len(train_images)):\n",
    "\tif (train_images[i] == np.zeros([train_images[i].shape[0],train_images[i].shape[1]],dtype=np.uint8) ).all():\n",
    "\t\tdelete.append(i)\n",
    "\n",
    "train_images = np.delete(train_images,delete[0],axis=0)\n",
    "train_labels = np.delete(train_labels,delete[0])\n",
    "\n",
    "train_images = np.delete(train_images,delete[1]-1,axis=0)\n",
    "train_labels = np.delete(train_labels,delete[1]-1)"
   ]
  },
  {
   "cell_type": "code",
   "execution_count": 6,
   "metadata": {},
   "outputs": [],
   "source": [
    "# split the images/labels to train and test\n",
    "train_images, test_images, train_labels, test_labels = train_test_split(train_images, train_labels, test_size=0.2)\n",
    "\n",
    "np.savez_compressed(\"katakana_train_images.npz\", train_images)\n",
    "np.savez_compressed(\"katakana_train_labels.npz\", train_labels)\n",
    "np.savez_compressed(\"katakana_test_images.npz\", test_images)\n",
    "np.savez_compressed(\"katakana_test_labels.npz\", test_labels)\n"
   ]
  }
 ],
 "metadata": {
  "kernelspec": {
   "display_name": "venv",
   "language": "python",
   "name": "python3"
  },
  "language_info": {
   "codemirror_mode": {
    "name": "ipython",
    "version": 3
   },
   "file_extension": ".py",
   "mimetype": "text/x-python",
   "name": "python",
   "nbconvert_exporter": "python",
   "pygments_lexer": "ipython3",
   "version": "3.12.9"
  }
 },
 "nbformat": 4,
 "nbformat_minor": 2
}
