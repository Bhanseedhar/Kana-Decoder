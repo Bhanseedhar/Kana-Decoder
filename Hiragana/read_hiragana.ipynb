{
 "cells": [
  {
   "cell_type": "code",
   "execution_count": 10,
   "metadata": {},
   "outputs": [],
   "source": [
    "import struct\n",
    "from PIL import Image\n",
    "import numpy as np\n",
    "import os"
   ]
  },
  {
   "cell_type": "code",
   "execution_count": 8,
   "metadata": {},
   "outputs": [],
   "source": [
    "os.chdir(r'C:\\Users\\dic_l\\Desktop\\japanese handwritten ocr')\n",
    "\n",
    "\n"
   ]
  },
  {
   "cell_type": "code",
   "execution_count": 9,
   "metadata": {},
   "outputs": [],
   "source": [
    "def read_record_ETL8G(f):\n",
    "    s = f.read(8199)\n",
    "    r= struct.unpack('>2H8sI4B4H2B30x8128s11x', s)\n",
    "    iF = Image.frombytes('F', (128, 127), r[14], 'bit', 4)\n",
    "    iL = iF.convert('L')\n",
    "    return r + (iL,)\n",
    "def read_hira():\n",
    "    hiragana = np.zeros([71, 160, 127, 128], dtype=np.uint8)\n",
    "    for i in range(1, 33):\n",
    "        filename = 'ETL8G/ETL8G_{:02d}'.format(i)\n",
    "        with open(filename, 'rb') as f:\n",
    "            for dataset in range(5):\n",
    "                char = 0\n",
    "                for j in range(956):\n",
    "                    r = read_record_ETL8G(f)\n",
    "                    if b'.HIRA' in r[2] or b'.WO.' in r[2]:\n",
    "                        if not b'KAI' in r[2] and not b'HEI' in r[2]:\n",
    "                            hiragana[char, (i - 1) * 5 + dataset] = np.array(r[-1])\n",
    "                            char += 1\n",
    "    np.savez_compressed(\"hiragana.npz\", hiragana)\n",
    "read_hira()"
   ]
  },
  {
   "cell_type": "code",
   "execution_count": null,
   "metadata": {},
   "outputs": [],
   "source": []
  }
 ],
 "metadata": {
  "kernelspec": {
   "display_name": "venv",
   "language": "python",
   "name": "python3"
  },
  "language_info": {
   "codemirror_mode": {
    "name": "ipython",
    "version": 3
   },
   "file_extension": ".py",
   "mimetype": "text/x-python",
   "name": "python",
   "nbconvert_exporter": "python",
   "pygments_lexer": "ipython3",
   "version": "3.12.9"
  }
 },
 "nbformat": 4,
 "nbformat_minor": 2
}
