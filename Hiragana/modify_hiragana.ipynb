{
 "cells": [
  {
   "cell_type": "code",
   "execution_count": null,
   "metadata": {},
   "outputs": [],
   "source": []
  },
  {
   "cell_type": "code",
   "execution_count": 5,
   "metadata": {},
   "outputs": [],
   "source": [
    "import skimage.transform\n",
    "import numpy as np\n",
    "from sklearn.model_selection import train_test_split\n",
    "import os\n",
    "os.chdir(r'C:\\Users\\dic_l\\Desktop\\japanese handwritten ocr')"
   ]
  },
  {
   "cell_type": "code",
   "execution_count": 7,
   "metadata": {},
   "outputs": [],
   "source": [
    "hira =np.load(\"hiragana.npz\")['arr_0'].reshape([-1,127,128]).astype(np.float32)\n",
    "\n",
    "hira = hira/np.max(hira)"
   ]
  },
  {
   "cell_type": "markdown",
   "metadata": {},
   "source": [
    "71 characters, 160 writers, transform image to 48*48"
   ]
  },
  {
   "cell_type": "code",
   "execution_count": 9,
   "metadata": {},
   "outputs": [],
   "source": [
    "train_images = np.zeros([71*160,48,48],dtype=np.float32)\n",
    "\n",
    "for i in range(71 * 160):\n",
    "    train_images[i] = skimage.transform.resize(hira[i], (48, 48))\n",
    "\n",
    "\n",
    "arr = np.arange(71)\n",
    "train_labels = np.repeat(arr, 160) # create labels"
   ]
  },
  {
   "cell_type": "code",
   "execution_count": 10,
   "metadata": {},
   "outputs": [],
   "source": [
    "# split to train and test\n",
    "train_images, test_images, train_labels, test_labels = train_test_split(train_images, train_labels, test_size=0.2)\n",
    "\n",
    "np.savez_compressed(\"hiragana_train_images.npz\", train_images)\n",
    "np.savez_compressed(\"hiragana_train_labels.npz\", train_labels)\n",
    "np.savez_compressed(\"hiragana_test_images.npz\", test_images)\n",
    "np.savez_compressed(\"hiragana_test_labels.npz\", test_labels)"
   ]
  }
 ],
 "metadata": {
  "kernelspec": {
   "display_name": "venv",
   "language": "python",
   "name": "python3"
  },
  "language_info": {
   "codemirror_mode": {
    "name": "ipython",
    "version": 3
   },
   "file_extension": ".py",
   "mimetype": "text/x-python",
   "name": "python",
   "nbconvert_exporter": "python",
   "pygments_lexer": "ipython3",
   "version": "3.12.9"
  }
 },
 "nbformat": 4,
 "nbformat_minor": 2
}
