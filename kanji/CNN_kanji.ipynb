{
 "cells": [
  {
   "cell_type": "code",
   "execution_count": 3,
   "metadata": {},
   "outputs": [],
   "source": [
    "from tensorflow import keras\n",
    "import numpy as np\n",
    "from tensorflow.keras.preprocessing.image import ImageDataGenerator\n",
    "from keras import backend as K\n",
    "import os"
   ]
  },
  {
   "cell_type": "code",
   "execution_count": 4,
   "metadata": {},
   "outputs": [],
   "source": [
    "os.chdir(r'C:\\Users\\dic_l\\Desktop\\japanese handwritten ocr')"
   ]
  },
  {
   "cell_type": "code",
   "execution_count": 5,
   "metadata": {},
   "outputs": [],
   "source": [
    "train_images = np.load(\"kanji_train_images.npz\")['arr_0']\n",
    "train_labels = np.load(\"kanji_train_labels.npz\")['arr_0']\n",
    "test_images = np.load(\"kanji_test_images.npz\")['arr_0']\n",
    "test_labels = np.load(\"kanji_test_labels.npz\")['arr_0']"
   ]
  },
  {
   "cell_type": "code",
   "execution_count": 6,
   "metadata": {},
   "outputs": [],
   "source": [
    "if K.image_data_format() == \"channels_first\":\n",
    "  train_images = train_images.reshape(train_images.shape[0], 1,48,48)\n",
    "  test_images = test_images.reshape(test_images.shape[0], 1,48,48)\n",
    "  shape = (1,48,48)\n",
    "else:\n",
    "  train_images = train_images.reshape(train_images.shape[0], 48, 48, 1)\n",
    "  test_images = test_images.reshape(test_images.shape[0], 48, 48, 1)\n",
    "  shape = (48,48,1)\n",
    "  "
   ]
  },
  {
   "cell_type": "code",
   "execution_count": 7,
   "metadata": {},
   "outputs": [
    {
     "name": "stderr",
     "output_type": "stream",
     "text": [
      "c:\\Users\\dic_l\\Desktop\\japanese handwritten ocr\\venv\\Lib\\site-packages\\keras\\src\\layers\\convolutional\\base_conv.py:107: UserWarning: Do not pass an `input_shape`/`input_dim` argument to a layer. When using Sequential models, prefer using an `Input(shape)` object as the first layer in the model instead.\n",
      "  super().__init__(activity_regularizer=activity_regularizer, **kwargs)\n"
     ]
    }
   ],
   "source": [
    "datagen = ImageDataGenerator(rotation_range=15,zoom_range=0.2)\n",
    "datagen.fit(train_images)\n",
    "model = keras.Sequential([\n",
    "  keras.layers.Conv2D(64, (3,3), activation='relu', input_shape=shape),\n",
    "  keras.layers.MaxPooling2D(2,2),\n",
    "  keras.layers.Conv2D(64, (3,3), activation='relu'),\n",
    "  keras.layers.MaxPooling2D(2,2),\n",
    "  keras.layers.Flatten(),\n",
    "  keras.layers.Dropout(0.5),\n",
    "  keras.layers.Dense(2048, activation='relu'),\n",
    "  keras.layers.Dense(879, activation=\"softmax\")\n",
    "])"
   ]
  },
  {
   "cell_type": "code",
   "execution_count": 9,
   "metadata": {},
   "outputs": [
    {
     "name": "stdout",
     "output_type": "stream",
     "text": [
      "Epoch 1/50\n"
     ]
    },
    {
     "name": "stderr",
     "output_type": "stream",
     "text": [
      "c:\\Users\\dic_l\\Desktop\\japanese handwritten ocr\\venv\\Lib\\site-packages\\keras\\src\\trainers\\data_adapters\\py_dataset_adapter.py:121: UserWarning: Your `PyDataset` class should call `super().__init__(**kwargs)` in its constructor. `**kwargs` can include `workers`, `use_multiprocessing`, `max_queue_size`. Do not pass these arguments to `fit()`, as they will be ignored.\n",
      "  self._warn_if_super_not_called()\n"
     ]
    },
    {
     "name": "stdout",
     "output_type": "stream",
     "text": [
      "\u001b[1m3516/3516\u001b[0m \u001b[32m━━━━━━━━━━━━━━━━━━━━\u001b[0m\u001b[37m\u001b[0m \u001b[1m170s\u001b[0m 48ms/step - accuracy: 0.1253 - loss: 5.3322 - val_accuracy: 0.8228 - val_loss: 0.6348 - learning_rate: 0.0010\n",
      "Epoch 2/50\n",
      "\u001b[1m3516/3516\u001b[0m \u001b[32m━━━━━━━━━━━━━━━━━━━━\u001b[0m\u001b[37m\u001b[0m \u001b[1m199s\u001b[0m 57ms/step - accuracy: 0.6280 - loss: 1.4424 - val_accuracy: 0.8932 - val_loss: 0.3827 - learning_rate: 0.0010\n",
      "Epoch 3/50\n",
      "\u001b[1m3516/3516\u001b[0m \u001b[32m━━━━━━━━━━━━━━━━━━━━\u001b[0m\u001b[37m\u001b[0m \u001b[1m203s\u001b[0m 58ms/step - accuracy: 0.7242 - loss: 1.0205 - val_accuracy: 0.9205 - val_loss: 0.2718 - learning_rate: 0.0010\n",
      "Epoch 4/50\n",
      "\u001b[1m3516/3516\u001b[0m \u001b[32m━━━━━━━━━━━━━━━━━━━━\u001b[0m\u001b[37m\u001b[0m \u001b[1m204s\u001b[0m 58ms/step - accuracy: 0.7733 - loss: 0.8269 - val_accuracy: 0.9311 - val_loss: 0.2367 - learning_rate: 0.0010\n",
      "Epoch 5/50\n",
      "\u001b[1m3516/3516\u001b[0m \u001b[32m━━━━━━━━━━━━━━━━━━━━\u001b[0m\u001b[37m\u001b[0m \u001b[1m208s\u001b[0m 59ms/step - accuracy: 0.8039 - loss: 0.7029 - val_accuracy: 0.9441 - val_loss: 0.1905 - learning_rate: 0.0010\n",
      "Epoch 6/50\n",
      "\u001b[1m3516/3516\u001b[0m \u001b[32m━━━━━━━━━━━━━━━━━━━━\u001b[0m\u001b[37m\u001b[0m \u001b[1m204s\u001b[0m 58ms/step - accuracy: 0.8270 - loss: 0.6068 - val_accuracy: 0.9438 - val_loss: 0.1903 - learning_rate: 0.0010\n",
      "Epoch 7/50\n",
      "\u001b[1m3516/3516\u001b[0m \u001b[32m━━━━━━━━━━━━━━━━━━━━\u001b[0m\u001b[37m\u001b[0m \u001b[1m208s\u001b[0m 59ms/step - accuracy: 0.8446 - loss: 0.5469 - val_accuracy: 0.9524 - val_loss: 0.1599 - learning_rate: 0.0010\n",
      "Epoch 8/50\n",
      "\u001b[1m3516/3516\u001b[0m \u001b[32m━━━━━━━━━━━━━━━━━━━━\u001b[0m\u001b[37m\u001b[0m \u001b[1m211s\u001b[0m 60ms/step - accuracy: 0.8578 - loss: 0.4991 - val_accuracy: 0.9532 - val_loss: 0.1591 - learning_rate: 0.0010\n",
      "Epoch 9/50\n",
      "\u001b[1m3516/3516\u001b[0m \u001b[32m━━━━━━━━━━━━━━━━━━━━\u001b[0m\u001b[37m\u001b[0m \u001b[1m213s\u001b[0m 61ms/step - accuracy: 0.8651 - loss: 0.4640 - val_accuracy: 0.9572 - val_loss: 0.1440 - learning_rate: 0.0010\n",
      "Epoch 10/50\n",
      "\u001b[1m3516/3516\u001b[0m \u001b[32m━━━━━━━━━━━━━━━━━━━━\u001b[0m\u001b[37m\u001b[0m \u001b[1m215s\u001b[0m 61ms/step - accuracy: 0.8748 - loss: 0.4294 - val_accuracy: 0.9621 - val_loss: 0.1266 - learning_rate: 0.0010\n",
      "Epoch 11/50\n",
      "\u001b[1m3516/3516\u001b[0m \u001b[32m━━━━━━━━━━━━━━━━━━━━\u001b[0m\u001b[37m\u001b[0m \u001b[1m215s\u001b[0m 61ms/step - accuracy: 0.8783 - loss: 0.4113 - val_accuracy: 0.9650 - val_loss: 0.1195 - learning_rate: 0.0010\n",
      "Epoch 12/50\n",
      "\u001b[1m3516/3516\u001b[0m \u001b[32m━━━━━━━━━━━━━━━━━━━━\u001b[0m\u001b[37m\u001b[0m \u001b[1m214s\u001b[0m 61ms/step - accuracy: 0.8862 - loss: 0.3905 - val_accuracy: 0.9629 - val_loss: 0.1248 - learning_rate: 0.0010\n",
      "Epoch 13/50\n",
      "\u001b[1m3516/3516\u001b[0m \u001b[32m━━━━━━━━━━━━━━━━━━━━\u001b[0m\u001b[37m\u001b[0m \u001b[1m795s\u001b[0m 226ms/step - accuracy: 0.8914 - loss: 0.3685 - val_accuracy: 0.9662 - val_loss: 0.1142 - learning_rate: 0.0010\n",
      "Epoch 14/50\n",
      "\u001b[1m3516/3516\u001b[0m \u001b[32m━━━━━━━━━━━━━━━━━━━━\u001b[0m\u001b[37m\u001b[0m \u001b[1m184s\u001b[0m 52ms/step - accuracy: 0.8934 - loss: 0.3597 - val_accuracy: 0.9652 - val_loss: 0.1193 - learning_rate: 0.0010\n",
      "Epoch 15/50\n",
      "\u001b[1m3516/3516\u001b[0m \u001b[32m━━━━━━━━━━━━━━━━━━━━\u001b[0m\u001b[37m\u001b[0m \u001b[1m219s\u001b[0m 62ms/step - accuracy: 0.8993 - loss: 0.3354 - val_accuracy: 0.9667 - val_loss: 0.1166 - learning_rate: 0.0010\n",
      "Epoch 16/50\n",
      "\u001b[1m3516/3516\u001b[0m \u001b[32m━━━━━━━━━━━━━━━━━━━━\u001b[0m\u001b[37m\u001b[0m \u001b[1m223s\u001b[0m 63ms/step - accuracy: 0.9013 - loss: 0.3284 - val_accuracy: 0.9669 - val_loss: 0.1130 - learning_rate: 0.0010\n",
      "Epoch 17/50\n",
      "\u001b[1m3516/3516\u001b[0m \u001b[32m━━━━━━━━━━━━━━━━━━━━\u001b[0m\u001b[37m\u001b[0m \u001b[1m524s\u001b[0m 149ms/step - accuracy: 0.9041 - loss: 0.3220 - val_accuracy: 0.9685 - val_loss: 0.1051 - learning_rate: 0.0010\n",
      "Epoch 18/50\n",
      "\u001b[1m3516/3516\u001b[0m \u001b[32m━━━━━━━━━━━━━━━━━━━━\u001b[0m\u001b[37m\u001b[0m \u001b[1m213s\u001b[0m 60ms/step - accuracy: 0.9094 - loss: 0.3052 - val_accuracy: 0.9673 - val_loss: 0.1112 - learning_rate: 0.0010\n",
      "Epoch 19/50\n",
      "\u001b[1m3516/3516\u001b[0m \u001b[32m━━━━━━━━━━━━━━━━━━━━\u001b[0m\u001b[37m\u001b[0m \u001b[1m225s\u001b[0m 64ms/step - accuracy: 0.9104 - loss: 0.3023 - val_accuracy: 0.9697 - val_loss: 0.0987 - learning_rate: 0.0010\n",
      "Epoch 20/50\n",
      "\u001b[1m3516/3516\u001b[0m \u001b[32m━━━━━━━━━━━━━━━━━━━━\u001b[0m\u001b[37m\u001b[0m \u001b[1m225s\u001b[0m 64ms/step - accuracy: 0.9117 - loss: 0.2936 - val_accuracy: 0.9722 - val_loss: 0.0943 - learning_rate: 0.0010\n",
      "Epoch 21/50\n",
      "\u001b[1m3516/3516\u001b[0m \u001b[32m━━━━━━━━━━━━━━━━━━━━\u001b[0m\u001b[37m\u001b[0m \u001b[1m220s\u001b[0m 63ms/step - accuracy: 0.9128 - loss: 0.2859 - val_accuracy: 0.9712 - val_loss: 0.0971 - learning_rate: 0.0010\n",
      "Epoch 22/50\n",
      "\u001b[1m3516/3516\u001b[0m \u001b[32m━━━━━━━━━━━━━━━━━━━━\u001b[0m\u001b[37m\u001b[0m \u001b[1m218s\u001b[0m 62ms/step - accuracy: 0.9163 - loss: 0.2813 - val_accuracy: 0.9695 - val_loss: 0.1057 - learning_rate: 0.0010\n",
      "Epoch 23/50\n",
      "\u001b[1m3516/3516\u001b[0m \u001b[32m━━━━━━━━━━━━━━━━━━━━\u001b[0m\u001b[37m\u001b[0m \u001b[1m216s\u001b[0m 61ms/step - accuracy: 0.9172 - loss: 0.2762 - val_accuracy: 0.9719 - val_loss: 0.0941 - learning_rate: 0.0010\n",
      "Epoch 24/50\n",
      "\u001b[1m3516/3516\u001b[0m \u001b[32m━━━━━━━━━━━━━━━━━━━━\u001b[0m\u001b[37m\u001b[0m \u001b[1m215s\u001b[0m 61ms/step - accuracy: 0.9173 - loss: 0.2779 - val_accuracy: 0.9706 - val_loss: 0.1011 - learning_rate: 0.0010\n",
      "Epoch 25/50\n",
      "\u001b[1m3516/3516\u001b[0m \u001b[32m━━━━━━━━━━━━━━━━━━━━\u001b[0m\u001b[37m\u001b[0m \u001b[1m216s\u001b[0m 62ms/step - accuracy: 0.9192 - loss: 0.2668 - val_accuracy: 0.9731 - val_loss: 0.0948 - learning_rate: 0.0010\n",
      "Epoch 26/50\n",
      "\u001b[1m3516/3516\u001b[0m \u001b[32m━━━━━━━━━━━━━━━━━━━━\u001b[0m\u001b[37m\u001b[0m \u001b[1m217s\u001b[0m 62ms/step - accuracy: 0.9241 - loss: 0.2548 - val_accuracy: 0.9744 - val_loss: 0.0889 - learning_rate: 0.0010\n",
      "Epoch 27/50\n",
      "\u001b[1m3516/3516\u001b[0m \u001b[32m━━━━━━━━━━━━━━━━━━━━\u001b[0m\u001b[37m\u001b[0m \u001b[1m217s\u001b[0m 62ms/step - accuracy: 0.9231 - loss: 0.2564 - val_accuracy: 0.9722 - val_loss: 0.0980 - learning_rate: 0.0010\n",
      "Epoch 28/50\n",
      "\u001b[1m3516/3516\u001b[0m \u001b[32m━━━━━━━━━━━━━━━━━━━━\u001b[0m\u001b[37m\u001b[0m \u001b[1m218s\u001b[0m 62ms/step - accuracy: 0.9232 - loss: 0.2522 - val_accuracy: 0.9732 - val_loss: 0.0924 - learning_rate: 0.0010\n",
      "Epoch 29/50\n",
      "\u001b[1m3516/3516\u001b[0m \u001b[32m━━━━━━━━━━━━━━━━━━━━\u001b[0m\u001b[37m\u001b[0m \u001b[1m0s\u001b[0m 60ms/step - accuracy: 0.9261 - loss: 0.2444\n",
      "Epoch 29: ReduceLROnPlateau reducing learning rate to 0.0005000000237487257.\n",
      "\u001b[1m3516/3516\u001b[0m \u001b[32m━━━━━━━━━━━━━━━━━━━━\u001b[0m\u001b[37m\u001b[0m \u001b[1m218s\u001b[0m 62ms/step - accuracy: 0.9261 - loss: 0.2444 - val_accuracy: 0.9719 - val_loss: 0.0985 - learning_rate: 0.0010\n",
      "Epoch 30/50\n",
      "\u001b[1m3516/3516\u001b[0m \u001b[32m━━━━━━━━━━━━━━━━━━━━\u001b[0m\u001b[37m\u001b[0m \u001b[1m218s\u001b[0m 62ms/step - accuracy: 0.9383 - loss: 0.2038 - val_accuracy: 0.9774 - val_loss: 0.0782 - learning_rate: 5.0000e-04\n",
      "Epoch 31/50\n",
      "\u001b[1m3516/3516\u001b[0m \u001b[32m━━━━━━━━━━━━━━━━━━━━\u001b[0m\u001b[37m\u001b[0m \u001b[1m218s\u001b[0m 62ms/step - accuracy: 0.9404 - loss: 0.1951 - val_accuracy: 0.9785 - val_loss: 0.0754 - learning_rate: 5.0000e-04\n",
      "Epoch 32/50\n",
      "\u001b[1m3516/3516\u001b[0m \u001b[32m━━━━━━━━━━━━━━━━━━━━\u001b[0m\u001b[37m\u001b[0m \u001b[1m218s\u001b[0m 62ms/step - accuracy: 0.9427 - loss: 0.1847 - val_accuracy: 0.9801 - val_loss: 0.0708 - learning_rate: 5.0000e-04\n",
      "Epoch 33/50\n",
      "\u001b[1m3516/3516\u001b[0m \u001b[32m━━━━━━━━━━━━━━━━━━━━\u001b[0m\u001b[37m\u001b[0m \u001b[1m218s\u001b[0m 62ms/step - accuracy: 0.9452 - loss: 0.1775 - val_accuracy: 0.9779 - val_loss: 0.0770 - learning_rate: 5.0000e-04\n",
      "Epoch 34/50\n",
      "\u001b[1m3516/3516\u001b[0m \u001b[32m━━━━━━━━━━━━━━━━━━━━\u001b[0m\u001b[37m\u001b[0m \u001b[1m218s\u001b[0m 62ms/step - accuracy: 0.9473 - loss: 0.1728 - val_accuracy: 0.9799 - val_loss: 0.0700 - learning_rate: 5.0000e-04\n",
      "Epoch 35/50\n",
      "\u001b[1m3516/3516\u001b[0m \u001b[32m━━━━━━━━━━━━━━━━━━━━\u001b[0m\u001b[37m\u001b[0m \u001b[1m218s\u001b[0m 62ms/step - accuracy: 0.9481 - loss: 0.1717 - val_accuracy: 0.9753 - val_loss: 0.0880 - learning_rate: 5.0000e-04\n",
      "Epoch 36/50\n",
      "\u001b[1m3516/3516\u001b[0m \u001b[32m━━━━━━━━━━━━━━━━━━━━\u001b[0m\u001b[37m\u001b[0m \u001b[1m218s\u001b[0m 62ms/step - accuracy: 0.9481 - loss: 0.1679 - val_accuracy: 0.9797 - val_loss: 0.0701 - learning_rate: 5.0000e-04\n",
      "Epoch 37/50\n",
      "\u001b[1m3516/3516\u001b[0m \u001b[32m━━━━━━━━━━━━━━━━━━━━\u001b[0m\u001b[37m\u001b[0m \u001b[1m0s\u001b[0m 60ms/step - accuracy: 0.9478 - loss: 0.1688\n",
      "Epoch 37: ReduceLROnPlateau reducing learning rate to 0.0002500000118743628.\n",
      "\u001b[1m3516/3516\u001b[0m \u001b[32m━━━━━━━━━━━━━━━━━━━━\u001b[0m\u001b[37m\u001b[0m \u001b[1m219s\u001b[0m 62ms/step - accuracy: 0.9478 - loss: 0.1688 - val_accuracy: 0.9783 - val_loss: 0.0740 - learning_rate: 5.0000e-04\n",
      "Epoch 38/50\n",
      "\u001b[1m3516/3516\u001b[0m \u001b[32m━━━━━━━━━━━━━━━━━━━━\u001b[0m\u001b[37m\u001b[0m \u001b[1m218s\u001b[0m 62ms/step - accuracy: 0.9550 - loss: 0.1477 - val_accuracy: 0.9825 - val_loss: 0.0648 - learning_rate: 2.5000e-04\n",
      "Epoch 39/50\n",
      "\u001b[1m3516/3516\u001b[0m \u001b[32m━━━━━━━━━━━━━━━━━━━━\u001b[0m\u001b[37m\u001b[0m \u001b[1m218s\u001b[0m 62ms/step - accuracy: 0.9562 - loss: 0.1405 - val_accuracy: 0.9831 - val_loss: 0.0601 - learning_rate: 2.5000e-04\n",
      "Epoch 40/50\n",
      "\u001b[1m3516/3516\u001b[0m \u001b[32m━━━━━━━━━━━━━━━━━━━━\u001b[0m\u001b[37m\u001b[0m \u001b[1m219s\u001b[0m 62ms/step - accuracy: 0.9574 - loss: 0.1363 - val_accuracy: 0.9820 - val_loss: 0.0615 - learning_rate: 2.5000e-04\n",
      "Epoch 41/50\n",
      "\u001b[1m3516/3516\u001b[0m \u001b[32m━━━━━━━━━━━━━━━━━━━━\u001b[0m\u001b[37m\u001b[0m \u001b[1m219s\u001b[0m 62ms/step - accuracy: 0.9598 - loss: 0.1299 - val_accuracy: 0.9805 - val_loss: 0.0689 - learning_rate: 2.5000e-04\n",
      "Epoch 42/50\n",
      "\u001b[1m3516/3516\u001b[0m \u001b[32m━━━━━━━━━━━━━━━━━━━━\u001b[0m\u001b[37m\u001b[0m \u001b[1m0s\u001b[0m 60ms/step - accuracy: 0.9588 - loss: 0.1322\n",
      "Epoch 42: ReduceLROnPlateau reducing learning rate to 0.0001250000059371814.\n",
      "\u001b[1m3516/3516\u001b[0m \u001b[32m━━━━━━━━━━━━━━━━━━━━\u001b[0m\u001b[37m\u001b[0m \u001b[1m219s\u001b[0m 62ms/step - accuracy: 0.9588 - loss: 0.1322 - val_accuracy: 0.9797 - val_loss: 0.0698 - learning_rate: 2.5000e-04\n",
      "Epoch 43/50\n",
      "\u001b[1m3516/3516\u001b[0m \u001b[32m━━━━━━━━━━━━━━━━━━━━\u001b[0m\u001b[37m\u001b[0m \u001b[1m218s\u001b[0m 62ms/step - accuracy: 0.9603 - loss: 0.1239 - val_accuracy: 0.9825 - val_loss: 0.0601 - learning_rate: 1.2500e-04\n",
      "Epoch 44/50\n",
      "\u001b[1m3516/3516\u001b[0m \u001b[32m━━━━━━━━━━━━━━━━━━━━\u001b[0m\u001b[37m\u001b[0m \u001b[1m218s\u001b[0m 62ms/step - accuracy: 0.9621 - loss: 0.1188 - val_accuracy: 0.9822 - val_loss: 0.0631 - learning_rate: 1.2500e-04\n",
      "Epoch 45/50\n",
      "\u001b[1m3516/3516\u001b[0m \u001b[32m━━━━━━━━━━━━━━━━━━━━\u001b[0m\u001b[37m\u001b[0m \u001b[1m0s\u001b[0m 60ms/step - accuracy: 0.9630 - loss: 0.1173\n",
      "Epoch 45: ReduceLROnPlateau reducing learning rate to 6.25000029685907e-05.\n",
      "\u001b[1m3516/3516\u001b[0m \u001b[32m━━━━━━━━━━━━━━━━━━━━\u001b[0m\u001b[37m\u001b[0m \u001b[1m218s\u001b[0m 62ms/step - accuracy: 0.9630 - loss: 0.1173 - val_accuracy: 0.9821 - val_loss: 0.0613 - learning_rate: 1.2500e-04\n",
      "Epoch 46/50\n",
      "\u001b[1m3516/3516\u001b[0m \u001b[32m━━━━━━━━━━━━━━━━━━━━\u001b[0m\u001b[37m\u001b[0m \u001b[1m217s\u001b[0m 62ms/step - accuracy: 0.9637 - loss: 0.1166 - val_accuracy: 0.9823 - val_loss: 0.0616 - learning_rate: 6.2500e-05\n",
      "Epoch 47/50\n",
      "\u001b[1m3516/3516\u001b[0m \u001b[32m━━━━━━━━━━━━━━━━━━━━\u001b[0m\u001b[37m\u001b[0m \u001b[1m218s\u001b[0m 62ms/step - accuracy: 0.9636 - loss: 0.1154 - val_accuracy: 0.9827 - val_loss: 0.0609 - learning_rate: 6.2500e-05\n",
      "Epoch 47: early stopping\n",
      "Restoring model weights from the end of the best epoch: 39.\n"
     ]
    },
    {
     "name": "stderr",
     "output_type": "stream",
     "text": [
      "WARNING:absl:You are saving your model as an HDF5 file via `model.save()` or `keras.saving.save_model(model)`. This file format is considered legacy. We recommend using instead the native Keras format, e.g. `model.save('my_model.keras')` or `keras.saving.save_model(model, 'my_model.keras')`. \n"
     ]
    }
   ],
   "source": [
    "#model.summary()\n",
    "\n",
    "model.compile(optimizer='adam', loss=\"sparse_categorical_crossentropy\", metrics=['accuracy'])\n",
    "              \n",
    "model.fit(datagen.flow(train_images,train_labels,shuffle=True),epochs=50,validation_data=(test_images,test_labels),callbacks = [keras.callbacks.EarlyStopping(patience=8,verbose=1,restore_best_weights=True),keras.callbacks.ReduceLROnPlateau(factor=0.5,patience=3,verbose=1)])\n",
    "\n",
    "#test_loss, test_acc = model.evaluate(test_images, test_labels)\n",
    "#print(\"Test Accuracy: \", test_acc)\n",
    "\n",
    "model.save(\"kanji.h5\")"
   ]
  },
  {
   "cell_type": "code",
   "execution_count": null,
   "metadata": {},
   "outputs": [],
   "source": []
  }
 ],
 "metadata": {
  "kernelspec": {
   "display_name": "venv",
   "language": "python",
   "name": "python3"
  },
  "language_info": {
   "codemirror_mode": {
    "name": "ipython",
    "version": 3
   },
   "file_extension": ".py",
   "mimetype": "text/x-python",
   "name": "python",
   "nbconvert_exporter": "python",
   "pygments_lexer": "ipython3",
   "version": "3.12.9"
  }
 },
 "nbformat": 4,
 "nbformat_minor": 2
}
