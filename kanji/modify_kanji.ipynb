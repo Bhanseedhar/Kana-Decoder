{
 "cells": [
  {
   "cell_type": "code",
   "execution_count": 3,
   "metadata": {},
   "outputs": [],
   "source": [
    "import skimage.transform\n",
    "import numpy as np\n",
    "from sklearn.model_selection import train_test_split\n",
    "import os"
   ]
  },
  {
   "cell_type": "code",
   "execution_count": 2,
   "metadata": {},
   "outputs": [],
   "source": [
    "os.chdir(r'C:\\Users\\dic_l\\Desktop\\japanese handwritten ocr')"
   ]
  },
  {
   "cell_type": "code",
   "execution_count": 4,
   "metadata": {},
   "outputs": [],
   "source": [
    "kanji = 879\n",
    "rows = 48\n",
    "cols = 48\n",
    "\n",
    "kan = np.load(\"kanji.npz\")['arr_0'].reshape([-1, 127, 128]).astype(np.float32)\n",
    "\n",
    "kan = kan/np.max(kan)"
   ]
  },
  {
   "cell_type": "code",
   "execution_count": 5,
   "metadata": {},
   "outputs": [],
   "source": [
    "train_images = np.zeros([kanji * 160, rows, cols], dtype=np.float32)\n",
    "\n",
    "arr = np.arange(kanji)\n",
    "train_labels = np.repeat(arr, 160)"
   ]
  },
  {
   "cell_type": "code",
   "execution_count": 14,
   "metadata": {},
   "outputs": [],
   "source": [
    "import skimage.transform\n",
    "import numpy as np\n",
    "\n",
    "# Assuming the expected shape for train_images is (48, 48)\n",
    "rows, cols = 48, 48\n",
    "\n",
    "train_images_cleaned = []\n",
    "\n",
    "for i in range((kanji + 4) * 160):\n",
    "    if int(i / 160) != 88 and int(i / 160) != 219 and int(i / 160) != 349 and int(i / 160) != 457:\n",
    "        # Resize the image to (48, 48)\n",
    "        resized_image = skimage.transform.resize(kan[i], (rows, cols))\n",
    "        train_images_cleaned.append(resized_image)\n",
    "\n",
    "# Convert the list to a numpy array (train_images should have shape (48, 48))\n",
    "train_images_cleaned = np.array(train_images_cleaned)\n",
    "\n",
    "# Split data into train/test\n",
    "train_images, test_images, train_labels, test_labels = train_test_split(train_images_cleaned, train_labels, test_size=0.2)\n",
    "\n",
    "# Save the cleaned data\n",
    "np.savez_compressed(\"kanji_train_images.npz\", train_images)\n",
    "np.savez_compressed(\"kanji_train_labels.npz\", train_labels)\n",
    "np.savez_compressed(\"kanji_test_images.npz\", test_images)\n",
    "np.savez_compressed(\"kanji_test_labels.npz\", test_labels)\n"
   ]
  }
 ],
 "metadata": {
  "kernelspec": {
   "display_name": "venv",
   "language": "python",
   "name": "python3"
  },
  "language_info": {
   "codemirror_mode": {
    "name": "ipython",
    "version": 3
   },
   "file_extension": ".py",
   "mimetype": "text/x-python",
   "name": "python",
   "nbconvert_exporter": "python",
   "pygments_lexer": "ipython3",
   "version": "3.12.9"
  }
 },
 "nbformat": 4,
 "nbformat_minor": 2
}
