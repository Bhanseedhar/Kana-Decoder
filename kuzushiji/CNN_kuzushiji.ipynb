{
 "cells": [
  {
   "cell_type": "markdown",
   "metadata": {},
   "source": [
    "Kuzushiji-MNIST is a drop-in replacement for the MNIST dataset (28x28 grayscale, 70,000 images), provided in the original MNIST format as well as a NumPy format. Since MNIST restricts us to 10 classes, we chose one character to represent each of the 10 rows of Hiragana when creating Kuzushiji-MNIST.\n",
    "\n",
    "Kuzushiji-49, as the name suggests, has 49 classes (28x28 grayscale, 270,912 images), is a much larger, but imbalanced dataset containing 48 Hiragana characters and one Hiragana iteration mark.\n",
    "\n",
    "Kuzushiji-Kanji is an imbalanced dataset with a total of 3,832 Kanji characters (64x64 grayscale, 140,424 images), ranging from 1,766 examples to only a single example per class.\n"
   ]
  },
  {
   "cell_type": "code",
   "execution_count": 1,
   "metadata": {},
   "outputs": [],
   "source": [
    "from tensorflow import keras\n",
    "import numpy as np\n",
    "from tensorflow.keras.preprocessing.image import ImageDataGenerator\n",
    "from keras import backend as K\n",
    "import os"
   ]
  },
  {
   "cell_type": "code",
   "execution_count": 2,
   "metadata": {},
   "outputs": [],
   "source": [
    "os.chdir(r'C:\\Users\\dic_l\\Desktop\\japanese handwritten ocr')"
   ]
  },
  {
   "cell_type": "markdown",
   "metadata": {},
   "source": [
    "download the 49 kuzushiji data from https://github.com/rois-codh/kmnist"
   ]
  },
  {
   "cell_type": "code",
   "execution_count": 3,
   "metadata": {},
   "outputs": [],
   "source": [
    "# downloaded from KMNIST\n",
    "train_images = np.load(\"k49-train-imgs.npz\")['arr_0']\n",
    "train_labels = np.load(\"k49-train-labels.npz\")['arr_0']\n",
    "test_images = np.load(\"k49-test-imgs.npz\")['arr_0']\n",
    "test_labels = np.load(\"k49-test-labels.npz\")['arr_0']"
   ]
  },
  {
   "cell_type": "code",
   "execution_count": 4,
   "metadata": {},
   "outputs": [],
   "source": [
    "if K.image_data_format() == \"channels_first\":\n",
    "  train_images = train_images.reshape(train_images.shape[0], 1,28,28)\n",
    "  test_images = test_images.reshape(test_images.shape[0], 1,28,28)\n",
    "  shape = (1,28,28)\n",
    "else:\n",
    "  train_images = train_images.reshape(train_images.shape[0], 28, 28, 1)\n",
    "  test_images = test_images.reshape(test_images.shape[0], 28, 28, 1)\n",
    "  shape = (28,28,1)"
   ]
  },
  {
   "cell_type": "code",
   "execution_count": 5,
   "metadata": {},
   "outputs": [],
   "source": [
    "train_images = train_images/255.0\n",
    "\n",
    "test_images = test_images / 255.0"
   ]
  },
  {
   "cell_type": "code",
   "execution_count": 6,
   "metadata": {},
   "outputs": [
    {
     "name": "stderr",
     "output_type": "stream",
     "text": [
      "c:\\Users\\dic_l\\Desktop\\japanese handwritten ocr\\venv\\Lib\\site-packages\\keras\\src\\layers\\convolutional\\base_conv.py:107: UserWarning: Do not pass an `input_shape`/`input_dim` argument to a layer. When using Sequential models, prefer using an `Input(shape)` object as the first layer in the model instead.\n",
      "  super().__init__(activity_regularizer=activity_regularizer, **kwargs)\n"
     ]
    }
   ],
   "source": [
    "datagen = ImageDataGenerator(rotation_range=15,zoom_range=0.2)\n",
    "datagen.fit(train_images)\n",
    "model = keras.Sequential([\n",
    "\tkeras.layers.Conv2D(64, (3,3), activation='relu', input_shape=shape),\n",
    "\tkeras.layers.MaxPooling2D(2,2),\n",
    "\tkeras.layers.Conv2D(64, (3,3), activation='relu'),\n",
    "\tkeras.layers.MaxPooling2D(2,2),\n",
    "  keras.layers.Flatten(),\n",
    "  keras.layers.Dropout(0.5),\n",
    "  keras.layers.Dense(512, activation='relu'),\n",
    "  keras.layers.Dense(49, activation=\"softmax\")\n",
    "])"
   ]
  },
  {
   "cell_type": "code",
   "execution_count": 8,
   "metadata": {},
   "outputs": [
    {
     "name": "stdout",
     "output_type": "stream",
     "text": [
      "Epoch 1/50\n"
     ]
    },
    {
     "name": "stderr",
     "output_type": "stream",
     "text": [
      "c:\\Users\\dic_l\\Desktop\\japanese handwritten ocr\\venv\\Lib\\site-packages\\keras\\src\\trainers\\data_adapters\\py_dataset_adapter.py:121: UserWarning: Your `PyDataset` class should call `super().__init__(**kwargs)` in its constructor. `**kwargs` can include `workers`, `use_multiprocessing`, `max_queue_size`. Do not pass these arguments to `fit()`, as they will be ignored.\n",
      "  self._warn_if_super_not_called()\n"
     ]
    },
    {
     "name": "stdout",
     "output_type": "stream",
     "text": [
      "\u001b[1m7262/7262\u001b[0m \u001b[32m━━━━━━━━━━━━━━━━━━━━\u001b[0m\u001b[37m\u001b[0m \u001b[1m41s\u001b[0m 5ms/step - accuracy: 0.7205 - loss: 1.0420 - val_accuracy: 0.8875 - val_loss: 0.4206 - learning_rate: 0.0010\n",
      "Epoch 2/50\n",
      "\u001b[1m7262/7262\u001b[0m \u001b[32m━━━━━━━━━━━━━━━━━━━━\u001b[0m\u001b[37m\u001b[0m \u001b[1m40s\u001b[0m 6ms/step - accuracy: 0.8892 - loss: 0.3857 - val_accuracy: 0.9135 - val_loss: 0.3362 - learning_rate: 0.0010\n",
      "Epoch 3/50\n",
      "\u001b[1m7262/7262\u001b[0m \u001b[32m━━━━━━━━━━━━━━━━━━━━\u001b[0m\u001b[37m\u001b[0m \u001b[1m39s\u001b[0m 5ms/step - accuracy: 0.9101 - loss: 0.3094 - val_accuracy: 0.9191 - val_loss: 0.3135 - learning_rate: 0.0010\n",
      "Epoch 4/50\n",
      "\u001b[1m7262/7262\u001b[0m \u001b[32m━━━━━━━━━━━━━━━━━━━━\u001b[0m\u001b[37m\u001b[0m \u001b[1m39s\u001b[0m 5ms/step - accuracy: 0.9185 - loss: 0.2797 - val_accuracy: 0.9263 - val_loss: 0.2878 - learning_rate: 0.0010\n",
      "Epoch 5/50\n",
      "\u001b[1m7262/7262\u001b[0m \u001b[32m━━━━━━━━━━━━━━━━━━━━\u001b[0m\u001b[37m\u001b[0m \u001b[1m40s\u001b[0m 5ms/step - accuracy: 0.9248 - loss: 0.2595 - val_accuracy: 0.9340 - val_loss: 0.2723 - learning_rate: 0.0010\n",
      "Epoch 6/50\n",
      "\u001b[1m7262/7262\u001b[0m \u001b[32m━━━━━━━━━━━━━━━━━━━━\u001b[0m\u001b[37m\u001b[0m \u001b[1m40s\u001b[0m 5ms/step - accuracy: 0.9275 - loss: 0.2473 - val_accuracy: 0.9339 - val_loss: 0.2680 - learning_rate: 0.0010\n",
      "Epoch 7/50\n",
      "\u001b[1m7262/7262\u001b[0m \u001b[32m━━━━━━━━━━━━━━━━━━━━\u001b[0m\u001b[37m\u001b[0m \u001b[1m39s\u001b[0m 5ms/step - accuracy: 0.9320 - loss: 0.2312 - val_accuracy: 0.9380 - val_loss: 0.2529 - learning_rate: 0.0010\n",
      "Epoch 8/50\n",
      "\u001b[1m7262/7262\u001b[0m \u001b[32m━━━━━━━━━━━━━━━━━━━━\u001b[0m\u001b[37m\u001b[0m \u001b[1m39s\u001b[0m 5ms/step - accuracy: 0.9353 - loss: 0.2222 - val_accuracy: 0.9355 - val_loss: 0.2564 - learning_rate: 0.0010\n",
      "Epoch 9/50\n",
      "\u001b[1m7262/7262\u001b[0m \u001b[32m━━━━━━━━━━━━━━━━━━━━\u001b[0m\u001b[37m\u001b[0m \u001b[1m40s\u001b[0m 5ms/step - accuracy: 0.9369 - loss: 0.2154 - val_accuracy: 0.9414 - val_loss: 0.2458 - learning_rate: 0.0010\n",
      "Epoch 10/50\n",
      "\u001b[1m7262/7262\u001b[0m \u001b[32m━━━━━━━━━━━━━━━━━━━━\u001b[0m\u001b[37m\u001b[0m \u001b[1m39s\u001b[0m 5ms/step - accuracy: 0.9385 - loss: 0.2076 - val_accuracy: 0.9393 - val_loss: 0.2561 - learning_rate: 0.0010\n",
      "Epoch 11/50\n",
      "\u001b[1m7262/7262\u001b[0m \u001b[32m━━━━━━━━━━━━━━━━━━━━\u001b[0m\u001b[37m\u001b[0m \u001b[1m39s\u001b[0m 5ms/step - accuracy: 0.9398 - loss: 0.2060 - val_accuracy: 0.9394 - val_loss: 0.2626 - learning_rate: 0.0010\n",
      "Epoch 12/50\n",
      "\u001b[1m7253/7262\u001b[0m \u001b[32m━━━━━━━━━━━━━━━━━━━\u001b[0m\u001b[37m━\u001b[0m \u001b[1m0s\u001b[0m 5ms/step - accuracy: 0.9398 - loss: 0.2036\n",
      "Epoch 12: ReduceLROnPlateau reducing learning rate to 0.0005000000237487257.\n",
      "\u001b[1m7262/7262\u001b[0m \u001b[32m━━━━━━━━━━━━━━━━━━━━\u001b[0m\u001b[37m\u001b[0m \u001b[1m39s\u001b[0m 5ms/step - accuracy: 0.9398 - loss: 0.2036 - val_accuracy: 0.9418 - val_loss: 0.2472 - learning_rate: 0.0010\n",
      "Epoch 13/50\n",
      "\u001b[1m7262/7262\u001b[0m \u001b[32m━━━━━━━━━━━━━━━━━━━━\u001b[0m\u001b[37m\u001b[0m \u001b[1m39s\u001b[0m 5ms/step - accuracy: 0.9459 - loss: 0.1822 - val_accuracy: 0.9481 - val_loss: 0.2204 - learning_rate: 5.0000e-04\n",
      "Epoch 14/50\n",
      "\u001b[1m7262/7262\u001b[0m \u001b[32m━━━━━━━━━━━━━━━━━━━━\u001b[0m\u001b[37m\u001b[0m \u001b[1m39s\u001b[0m 5ms/step - accuracy: 0.9500 - loss: 0.1674 - val_accuracy: 0.9478 - val_loss: 0.2278 - learning_rate: 5.0000e-04\n",
      "Epoch 15/50\n",
      "\u001b[1m7262/7262\u001b[0m \u001b[32m━━━━━━━━━━━━━━━━━━━━\u001b[0m\u001b[37m\u001b[0m \u001b[1m39s\u001b[0m 5ms/step - accuracy: 0.9514 - loss: 0.1617 - val_accuracy: 0.9475 - val_loss: 0.2297 - learning_rate: 5.0000e-04\n",
      "Epoch 16/50\n",
      "\u001b[1m7254/7262\u001b[0m \u001b[32m━━━━━━━━━━━━━━━━━━━\u001b[0m\u001b[37m━\u001b[0m \u001b[1m0s\u001b[0m 5ms/step - accuracy: 0.9529 - loss: 0.1574\n",
      "Epoch 16: ReduceLROnPlateau reducing learning rate to 0.0002500000118743628.\n",
      "\u001b[1m7262/7262\u001b[0m \u001b[32m━━━━━━━━━━━━━━━━━━━━\u001b[0m\u001b[37m\u001b[0m \u001b[1m40s\u001b[0m 5ms/step - accuracy: 0.9529 - loss: 0.1574 - val_accuracy: 0.9491 - val_loss: 0.2216 - learning_rate: 5.0000e-04\n",
      "Epoch 17/50\n",
      "\u001b[1m7262/7262\u001b[0m \u001b[32m━━━━━━━━━━━━━━━━━━━━\u001b[0m\u001b[37m\u001b[0m \u001b[1m40s\u001b[0m 5ms/step - accuracy: 0.9564 - loss: 0.1472 - val_accuracy: 0.9523 - val_loss: 0.2144 - learning_rate: 2.5000e-04\n",
      "Epoch 18/50\n",
      "\u001b[1m7262/7262\u001b[0m \u001b[32m━━━━━━━━━━━━━━━━━━━━\u001b[0m\u001b[37m\u001b[0m \u001b[1m40s\u001b[0m 5ms/step - accuracy: 0.9583 - loss: 0.1382 - val_accuracy: 0.9529 - val_loss: 0.2090 - learning_rate: 2.5000e-04\n",
      "Epoch 19/50\n",
      "\u001b[1m7262/7262\u001b[0m \u001b[32m━━━━━━━━━━━━━━━━━━━━\u001b[0m\u001b[37m\u001b[0m \u001b[1m40s\u001b[0m 5ms/step - accuracy: 0.9571 - loss: 0.1423 - val_accuracy: 0.9521 - val_loss: 0.2137 - learning_rate: 2.5000e-04\n",
      "Epoch 20/50\n",
      "\u001b[1m7262/7262\u001b[0m \u001b[32m━━━━━━━━━━━━━━━━━━━━\u001b[0m\u001b[37m\u001b[0m \u001b[1m40s\u001b[0m 6ms/step - accuracy: 0.9593 - loss: 0.1349 - val_accuracy: 0.9511 - val_loss: 0.2165 - learning_rate: 2.5000e-04\n",
      "Epoch 21/50\n",
      "\u001b[1m7262/7262\u001b[0m \u001b[32m━━━━━━━━━━━━━━━━━━━━\u001b[0m\u001b[37m\u001b[0m \u001b[1m39s\u001b[0m 5ms/step - accuracy: 0.9590 - loss: 0.1361 - val_accuracy: 0.9539 - val_loss: 0.2068 - learning_rate: 2.5000e-04\n",
      "Epoch 22/50\n",
      "\u001b[1m7262/7262\u001b[0m \u001b[32m━━━━━━━━━━━━━━━━━━━━\u001b[0m\u001b[37m\u001b[0m \u001b[1m40s\u001b[0m 6ms/step - accuracy: 0.9596 - loss: 0.1331 - val_accuracy: 0.9508 - val_loss: 0.2160 - learning_rate: 2.5000e-04\n",
      "Epoch 23/50\n",
      "\u001b[1m7262/7262\u001b[0m \u001b[32m━━━━━━━━━━━━━━━━━━━━\u001b[0m\u001b[37m\u001b[0m \u001b[1m41s\u001b[0m 6ms/step - accuracy: 0.9593 - loss: 0.1335 - val_accuracy: 0.9539 - val_loss: 0.2073 - learning_rate: 2.5000e-04\n",
      "Epoch 24/50\n",
      "\u001b[1m7262/7262\u001b[0m \u001b[32m━━━━━━━━━━━━━━━━━━━━\u001b[0m\u001b[37m\u001b[0m \u001b[1m40s\u001b[0m 5ms/step - accuracy: 0.9592 - loss: 0.1336 - val_accuracy: 0.9544 - val_loss: 0.2054 - learning_rate: 2.5000e-04\n",
      "Epoch 25/50\n",
      "\u001b[1m7262/7262\u001b[0m \u001b[32m━━━━━━━━━━━━━━━━━━━━\u001b[0m\u001b[37m\u001b[0m \u001b[1m40s\u001b[0m 6ms/step - accuracy: 0.9603 - loss: 0.1293 - val_accuracy: 0.9537 - val_loss: 0.2090 - learning_rate: 2.5000e-04\n",
      "Epoch 26/50\n",
      "\u001b[1m7262/7262\u001b[0m \u001b[32m━━━━━━━━━━━━━━━━━━━━\u001b[0m\u001b[37m\u001b[0m \u001b[1m42s\u001b[0m 6ms/step - accuracy: 0.9614 - loss: 0.1263 - val_accuracy: 0.9549 - val_loss: 0.2037 - learning_rate: 2.5000e-04\n",
      "Epoch 27/50\n",
      "\u001b[1m7262/7262\u001b[0m \u001b[32m━━━━━━━━━━━━━━━━━━━━\u001b[0m\u001b[37m\u001b[0m \u001b[1m44s\u001b[0m 6ms/step - accuracy: 0.9607 - loss: 0.1284 - val_accuracy: 0.9546 - val_loss: 0.2079 - learning_rate: 2.5000e-04\n",
      "Epoch 28/50\n",
      "\u001b[1m7262/7262\u001b[0m \u001b[32m━━━━━━━━━━━━━━━━━━━━\u001b[0m\u001b[37m\u001b[0m \u001b[1m41s\u001b[0m 6ms/step - accuracy: 0.9611 - loss: 0.1255 - val_accuracy: 0.9544 - val_loss: 0.2077 - learning_rate: 2.5000e-04\n",
      "Epoch 29/50\n",
      "\u001b[1m7261/7262\u001b[0m \u001b[32m━━━━━━━━━━━━━━━━━━━\u001b[0m\u001b[37m━\u001b[0m \u001b[1m0s\u001b[0m 5ms/step - accuracy: 0.9626 - loss: 0.1228\n",
      "Epoch 29: ReduceLROnPlateau reducing learning rate to 0.0001250000059371814.\n",
      "\u001b[1m7262/7262\u001b[0m \u001b[32m━━━━━━━━━━━━━━━━━━━━\u001b[0m\u001b[37m\u001b[0m \u001b[1m40s\u001b[0m 5ms/step - accuracy: 0.9626 - loss: 0.1228 - val_accuracy: 0.9538 - val_loss: 0.2121 - learning_rate: 2.5000e-04\n",
      "Epoch 30/50\n",
      "\u001b[1m7262/7262\u001b[0m \u001b[32m━━━━━━━━━━━━━━━━━━━━\u001b[0m\u001b[37m\u001b[0m \u001b[1m40s\u001b[0m 6ms/step - accuracy: 0.9636 - loss: 0.1206 - val_accuracy: 0.9555 - val_loss: 0.2060 - learning_rate: 1.2500e-04\n",
      "Epoch 31/50\n",
      "\u001b[1m7262/7262\u001b[0m \u001b[32m━━━━━━━━━━━━━━━━━━━━\u001b[0m\u001b[37m\u001b[0m \u001b[1m40s\u001b[0m 5ms/step - accuracy: 0.9639 - loss: 0.1186 - val_accuracy: 0.9547 - val_loss: 0.2071 - learning_rate: 1.2500e-04\n",
      "Epoch 32/50\n",
      "\u001b[1m7254/7262\u001b[0m \u001b[32m━━━━━━━━━━━━━━━━━━━\u001b[0m\u001b[37m━\u001b[0m \u001b[1m0s\u001b[0m 5ms/step - accuracy: 0.9643 - loss: 0.1164\n",
      "Epoch 32: ReduceLROnPlateau reducing learning rate to 6.25000029685907e-05.\n",
      "\u001b[1m7262/7262\u001b[0m \u001b[32m━━━━━━━━━━━━━━━━━━━━\u001b[0m\u001b[37m\u001b[0m \u001b[1m39s\u001b[0m 5ms/step - accuracy: 0.9643 - loss: 0.1164 - val_accuracy: 0.9540 - val_loss: 0.2100 - learning_rate: 1.2500e-04\n",
      "Epoch 33/50\n",
      "\u001b[1m7262/7262\u001b[0m \u001b[32m━━━━━━━━━━━━━━━━━━━━\u001b[0m\u001b[37m\u001b[0m \u001b[1m41s\u001b[0m 6ms/step - accuracy: 0.9651 - loss: 0.1152 - val_accuracy: 0.9548 - val_loss: 0.2096 - learning_rate: 6.2500e-05\n",
      "Epoch 34/50\n",
      "\u001b[1m7262/7262\u001b[0m \u001b[32m━━━━━━━━━━━━━━━━━━━━\u001b[0m\u001b[37m\u001b[0m \u001b[1m40s\u001b[0m 6ms/step - accuracy: 0.9651 - loss: 0.1158 - val_accuracy: 0.9555 - val_loss: 0.2060 - learning_rate: 6.2500e-05\n",
      "Epoch 34: early stopping\n",
      "Restoring model weights from the end of the best epoch: 26.\n"
     ]
    },
    {
     "name": "stderr",
     "output_type": "stream",
     "text": [
      "WARNING:absl:You are saving your model as an HDF5 file via `model.save()` or `keras.saving.save_model(model)`. This file format is considered legacy. We recommend using instead the native Keras format, e.g. `model.save('my_model.keras')` or `keras.saving.save_model(model, 'my_model.keras')`. \n"
     ]
    }
   ],
   "source": [
    "#model.summary()\n",
    "\n",
    "model.compile(optimizer='adam', loss=\"sparse_categorical_crossentropy\", metrics=['accuracy'])\n",
    "\n",
    "model.fit(datagen.flow(train_images,train_labels,shuffle=True),epochs=50,validation_data=(test_images,test_labels),callbacks = [keras.callbacks.EarlyStopping(patience=8,verbose=1,restore_best_weights=True),keras.callbacks.ReduceLROnPlateau(factor=0.5,patience=3,verbose=1)])\n",
    "\n",
    "\n",
    "#test_loss, test_acc = model.evaluate(test_images2, test_labels)\n",
    "#print(\"Accuracy: \", test_acc)\n",
    "\n",
    "model.save(\"kuzushiji.h5\")"
   ]
  },
  {
   "cell_type": "code",
   "execution_count": null,
   "metadata": {},
   "outputs": [],
   "source": []
  }
 ],
 "metadata": {
  "kernelspec": {
   "display_name": "venv",
   "language": "python",
   "name": "python3"
  },
  "language_info": {
   "codemirror_mode": {
    "name": "ipython",
    "version": 3
   },
   "file_extension": ".py",
   "mimetype": "text/x-python",
   "name": "python",
   "nbconvert_exporter": "python",
   "pygments_lexer": "ipython3",
   "version": "3.12.9"
  }
 },
 "nbformat": 4,
 "nbformat_minor": 2
}
